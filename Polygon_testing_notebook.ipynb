{
 "cells": [
  {
   "cell_type": "code",
   "execution_count": 6,
   "metadata": {},
   "outputs": [],
   "source": [
    "from Objective1 import Polygon\n",
    "from Objective2 import PolygonSequence\n",
    "import math\n"
   ]
  },
  {
   "cell_type": "code",
   "execution_count": 7,
   "metadata": {},
   "outputs": [],
   "source": [
    "def test_polygon():\n",
    "    print(\"Testing Polygon class\")\n",
    "    \n",
    "    n = 5  # Number of edges\n",
    "    R = 10  # Circumradius\n",
    "    poly = Polygon(n, R)\n",
    "    \n",
    "    # Expected values using the formulas\n",
    "    expected_interior_angle = (n - 2) * 180 / n\n",
    "    expected_edge_length = 2 * R * math.sin(math.pi / n)\n",
    "    expected_apothem = R * math.cos(math.pi / n)\n",
    "    expected_area = (1/2) * n * expected_edge_length * expected_apothem\n",
    "    expected_perimeter = n * expected_edge_length\n",
    "\n",
    "    assert math.isclose(poly.interior_angle(), expected_interior_angle, rel_tol=1e-5), \"Interior Angle mismatch\"\n",
    "    assert math.isclose(poly.edge_length(), expected_edge_length, rel_tol=1e-5), \"Edge Length mismatch\"\n",
    "    assert math.isclose(poly.apothem(), expected_apothem, rel_tol=1e-5), \"Apothem mismatch\"\n",
    "    assert math.isclose(poly.area(), expected_area, rel_tol=1e-5), \"Area mismatch\"\n",
    "    assert math.isclose(poly.perimeter(), expected_perimeter, rel_tol=1e-5), \"Perimeter mismatch\"\n",
    "    \n",
    "    print(\"All Polygon properties match expected values!\")\n"
   ]
  },
  {
   "cell_type": "code",
   "execution_count": null,
   "metadata": {},
   "outputs": [],
   "source": [
    "def test_polygon_sequence():\n",
    "    print(\"Testing PolygonSequence class\")\n",
    "    seq = PolygonSequence(25, 10)\n",
    "    print(f\"Total polygons in sequence: {len(seq)}\")\n",
    "    print(f\"Most efficient polygon: {seq.max_efficiency_polygon()}\")\n",
    "    print(\"PolygonSequence class passed all tests!\\n\")"
   ]
  },
  {
   "cell_type": "code",
   "execution_count": 9,
   "metadata": {},
   "outputs": [
    {
     "name": "stdout",
     "output_type": "stream",
     "text": [
      "Testing Polygon class\n",
      "All Polygon properties match expected values!\n"
     ]
    }
   ],
   "source": [
    "test_polygon()\n"
   ]
  },
  {
   "cell_type": "code",
   "execution_count": 10,
   "metadata": {},
   "outputs": [
    {
     "name": "stdout",
     "output_type": "stream",
     "text": [
      "Testing PolygonSequence class\n",
      "Total polygons in sequence: 23\n",
      "Most efficient polygon: Polygon(num_edges=25, circumradius=10)\n",
      "PolygonSequence class passed all tests!\n",
      "\n"
     ]
    }
   ],
   "source": [
    "test_polygon_sequence()"
   ]
  }
 ],
 "metadata": {
  "kernelspec": {
   "display_name": "Python 3",
   "language": "python",
   "name": "python3"
  },
  "language_info": {
   "codemirror_mode": {
    "name": "ipython",
    "version": 3
   },
   "file_extension": ".py",
   "mimetype": "text/x-python",
   "name": "python",
   "nbconvert_exporter": "python",
   "pygments_lexer": "ipython3",
   "version": "3.12.4"
  }
 },
 "nbformat": 4,
 "nbformat_minor": 2
}
